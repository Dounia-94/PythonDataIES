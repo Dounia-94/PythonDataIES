{
 "cells": [
  {
   "cell_type": "code",
   "execution_count": null,
   "id": "70a4ede9",
   "metadata": {},
   "outputs": [],
   "source": [
    "import seaborn as sns\n",
    "import pandas as pd\n",
    "import zipfile\n",
    "import numpy as np\n",
    "\n",
    "def load_and_transform_data(zip_file):\n",
    "    with zipfile.ZipFile(zip_file) as z:\n",
    "    # open the csv file in the dataset\n",
    "        with z.open(\"data/CPRT.csv\") as f:\n",
    "\n",
    "            compagny = pd.read_csv(f,index_col=['Date'], parse_dates=['date'], date_parser=lambda d: pd.to_datetime(d, format=\"%d-%m-%y\"))\n",
    "            columns = ['Date','High','Low','Volume','Adj Close']\n",
    "\n",
    "            \n",
    "    return adj_close\n",
    "\n",
    "load_and_transform_data('/Users/user/Desktop/51448265.zip')=\n"
   ]
  },
  {
   "cell_type": "raw",
   "id": "a5d7e7bc",
   "metadata": {},
   "source": [
    "1) Compagny CPRT has the same closing price and adjusted closing price for all periods of its stock. As the closing price refers to the price of the stock at the end of the day, it means that after the market closes, there are not any other changes likely to affect the price of the stock."
   ]
  },
  {
   "cell_type": "code",
   "execution_count": null,
   "id": "cd0b4e6c",
   "metadata": {},
   "outputs": [],
   "source": [
    "adj_close.min()\n",
    "adj_close.max()"
   ]
  },
  {
   "cell_type": "raw",
   "id": "de951718",
   "metadata": {},
   "source": [
    "2) For each compagny, the lowest price and highest price recorded are :\n",
    "- CPRT : 17.774999618530273 and 79.55000305175781\n",
    "- UPS : 81.68296813964844 and 230.4356231689453\n",
    "- VTR : 15.462660789489746 and 67.00811004638672"
   ]
  },
  {
   "cell_type": "code",
   "execution_count": null,
   "id": "6978b80e",
   "metadata": {},
   "outputs": [],
   "source": [
    "#Question 3\n",
    "adj_close.apply(np.log)\n",
    "adj_close.apply([np.min,np.max,np.mean,np.median],axis=0)"
   ]
  },
  {
   "cell_type": "code",
   "execution_count": null,
   "id": "acbe0e10",
   "metadata": {},
   "outputs": [],
   "source": [
    "#Question 4\n",
    "adj_close.apply(lambda x: x.idxmax())\n",
    "adj_close.apply(lambda x: x.idxmin())"
   ]
  },
  {
   "cell_type": "code",
   "execution_count": null,
   "id": "5854b907",
   "metadata": {},
   "outputs": [],
   "source": [
    "#Question 5\n",
    "For i=1 to 3:\n",
    "    adj_close.apply(np.max())"
   ]
  }
 ],
 "metadata": {
  "kernelspec": {
   "display_name": "Python 3 (ipykernel)",
   "language": "python",
   "name": "python3"
  },
  "language_info": {
   "codemirror_mode": {
    "name": "ipython",
    "version": 3
   },
   "file_extension": ".py",
   "mimetype": "text/x-python",
   "name": "python",
   "nbconvert_exporter": "python",
   "pygments_lexer": "ipython3",
   "version": "3.9.7"
  }
 },
 "nbformat": 4,
 "nbformat_minor": 5
}
