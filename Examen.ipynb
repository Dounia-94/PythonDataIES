{
 "cells": [
  {
   "cell_type": "code",
   "execution_count": null,
   "id": "39389a43",
   "metadata": {},
   "outputs": [],
   "source": [
    "import seaborn as sns\n",
    "import pandas as pd\n",
    "import zipfile\n",
    "import numpy as np\n",
    "\n",
    "def load_and_transform_data(zip_file):\n",
    "    with zipfile.ZipFile(zip_file) as z:\n",
    "    # open the csv file in the dataset\n",
    "        with z.open(\"data/CPRT.csv\") as f:\n",
    "\n",
    "            compagny = pd.read_csv(f,index_col=['Date'], parse_dates=['date'], date_parser=lambda d: pd.to_datetime(d, format=\"%d-%m-%y\"))\n",
    "\n",
    "            columns = ['High','Low','Open','Close','Volume','Adj close']\n",
    "            countries = covid.groupby('iso_code').apply(lambda g: g.iloc[0][country_columns])\n",
    "            \n",
    "            countries = countries[countries.apply(lambda row: len(row.name) == 3,axis=1)]\n",
    "            countries.continent = countries.continent.astype('category')\n",
    "\n",
    "            keep_covid_columns = ['new_cases','new_deaths','icu_patients','hosp_patients']\n",
    "\n",
    "            covid = covid[keep_covid_columns]\n",
    "            covid = covid[covid.apply(lambda row: len(row.name[0]) == 3,axis=1)]\n",
    "\n",
    "            covid = covid.sort_index()\n",
    "    return covid.new_cases, covid.new_deaths, covid.icu_patients, covid.hosp_patients, countries\n",
    "\n",
    "new_cases, new_deaths, icu_patients, hosp_patients, countries = load_and_transform_data('/Users/user/Desktop/covid.zip')\n",
    "\n",
    "czech_cases = new_cases.loc[idx['CZE']]\n",
    "slovak_cases = new_cases.loc[idx['SVK']]"
   ]
  },
  {
   "cell_type": "raw",
   "id": "7d3f22b5",
   "metadata": {},
   "source": [
    "1) Compagny CPRT has the same closing price and adjusted closing price for all periods of its stock. As the closing price refers to the price of the stock at the end of the day, it means that after the market closes, there are not any other changes likely to affect the price of the stock."
   ]
  },
  {
   "cell_type": "code",
   "execution_count": null,
   "id": "3f765a06",
   "metadata": {},
   "outputs": [],
   "source": [
    "adj_close.min()\n",
    "adj_close.max()"
   ]
  },
  {
   "cell_type": "raw",
   "id": "e383c20c",
   "metadata": {},
   "source": [
    "2) For each compagny, the lowest price and highest price recorded are :\n",
    "- CPRT : 17.774999618530273 and 79.55000305175781\n",
    "- UPS : 81.68296813964844 and 230.4356231689453\n",
    "- VTR : 15.462660789489746 and 67.00811004638672"
   ]
  },
  {
   "cell_type": "code",
   "execution_count": null,
   "id": "d38fcb9f",
   "metadata": {},
   "outputs": [],
   "source": [
    "#Question 3\n",
    "adj_close.apply(np.log)\n",
    "adj_close.apply([np.min,np.max,np.mean,np.median],axis=0)"
   ]
  },
  {
   "cell_type": "code",
   "execution_count": null,
   "id": "7e4e92f7",
   "metadata": {},
   "outputs": [],
   "source": [
    "#Question 4\n",
    "adj_close.apply(lambda x: x.idxmax())\n",
    "adj_close.apply(lambda x: x.idxmin())"
   ]
  },
  {
   "cell_type": "code",
   "execution_count": null,
   "id": "5c45ba6d",
   "metadata": {},
   "outputs": [],
   "source": [
    "#Question 5\n"
   ]
  }
 ],
 "metadata": {
  "kernelspec": {
   "display_name": "Python 3 (ipykernel)",
   "language": "python",
   "name": "python3"
  },
  "language_info": {
   "codemirror_mode": {
    "name": "ipython",
    "version": 3
   },
   "file_extension": ".py",
   "mimetype": "text/x-python",
   "name": "python",
   "nbconvert_exporter": "python",
   "pygments_lexer": "ipython3",
   "version": "3.9.7"
  }
 },
 "nbformat": 4,
 "nbformat_minor": 5
}
